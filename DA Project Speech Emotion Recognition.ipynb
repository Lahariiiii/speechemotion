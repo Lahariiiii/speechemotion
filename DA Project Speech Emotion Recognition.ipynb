{
 "cells": [
  {
   "cell_type": "markdown",
   "id": "8d195d57",
   "metadata": {},
   "source": [
    "# SPEECH EMOTION RECOGNITION\n",
    "- In this project we used MLP classifier algorithm, librosa and sklearn libraries.\n",
    "- we used RAVDESS dataset to analyze and recognize the emotions!"
   ]
  },
  {
   "cell_type": "markdown",
   "id": "e55dc92c",
   "metadata": {},
   "source": [
    "##  Import the necessary libraries\n"
   ]
  },
  {
   "cell_type": "code",
   "execution_count": 1,
   "id": "b57b2266",
   "metadata": {},
   "outputs": [],
   "source": [
    "import os"
   ]
  },
  {
   "cell_type": "code",
   "execution_count": 2,
   "id": "80b6deaa",
   "metadata": {},
   "outputs": [],
   "source": [
    "import librosa\n",
    "import soundfile\n",
    "import os, glob, pickle\n",
    "import numpy as np\n",
    "from sklearn.model_selection import train_test_split\n",
    "from sklearn.neural_network import MLPClassifier\n",
    "from sklearn.metrics import accuracy_score"
   ]
  },
  {
   "cell_type": "markdown",
   "id": "39e23c68",
   "metadata": {},
   "source": [
    "### Define a function to extract features mfcc, chroma, and mel from a sound file\n",
    "- mfcc= Mel Frequency Cepstral Coefficient, represents the short-term power spectrum of a sound\n",
    "- chroma= Pertains to the 12 different pitch classes\n",
    "- mel =  Mel Spectrogram Frequency\n"
   ]
  },
  {
   "cell_type": "code",
   "execution_count": 3,
   "id": "9a991550",
   "metadata": {},
   "outputs": [],
   "source": [
    "#Extract features (mfcc, chroma, mel) from a sound file\n",
    "def extract_feature(file_name, mfcc, chroma, mel):\n",
    "    with soundfile.SoundFile(file_name) as sound_file:\n",
    "        X = sound_file.read(dtype=\"float32\")\n",
    "        sample_rate=sound_file.samplerate\n",
    "        if chroma:\n",
    "            stft=np.abs(librosa.stft(X))\n",
    "        result=np.array([])\n",
    "        if mfcc:\n",
    "            mfccs=np.mean(librosa.feature.mfcc(y=X, sr=sample_rate, n_mfcc=40).T, axis=0)\n",
    "            result=np.hstack((result, mfccs))\n",
    "        if chroma:\n",
    "            chroma=np.mean(librosa.feature.chroma_stft(S=stft, sr=sample_rate).T,axis=0)\n",
    "            result=np.hstack((result, chroma))\n",
    "        if mel:\n",
    "            mel=np.mean(librosa.feature.melspectrogram(X, sr=sample_rate).T,axis=0)\n",
    "            result=np.hstack((result, mel))\n",
    "    return result"
   ]
  },
  {
   "cell_type": "code",
   "execution_count": 4,
   "id": "ae094579",
   "metadata": {},
   "outputs": [],
   "source": [
    "#Define a dictionary to hold numbers and emotions in ravdess dataset\n",
    "emotions={\n",
    "  '01':'neutral',\n",
    "  '02':'calm',\n",
    "  '03':'happy',\n",
    "  '04':'sad',\n",
    "  '05':'angry',\n",
    "  '06':'fearful',\n",
    "  '07':'disgust',\n",
    "  '08':'surprised'\n",
    "}\n",
    "\n",
    "#Emotions to observe\n",
    "observed_emotions=['calm', 'happy', 'fearful', 'disgust']"
   ]
  },
  {
   "cell_type": "markdown",
   "id": "07995d78",
   "metadata": {},
   "source": [
    "## Load the data and extract features for each sound file"
   ]
  },
  {
   "cell_type": "code",
   "execution_count": 5,
   "id": "19233176",
   "metadata": {},
   "outputs": [],
   "source": [
    "def load_data(test_size=0.2):\n",
    "    x,y=[],[]\n",
    "    for file in glob.glob(\"C:\\\\Users\\\\Hp\\\\Downloads\\\\Ravdess_dataset\\\\speech-emotion-recognition\\\\Actor_*\\\\*.wav\"):\n",
    "        file_name=os.path.basename(file)\n",
    "        emotion=emotions[file_name.split(\"-\")[2]]\n",
    "        if emotion not in observed_emotions:\n",
    "            continue\n",
    "        feature=extract_feature(file, mfcc=True, chroma=True, mel=True)\n",
    "        x.append(feature)\n",
    "        y.append(emotion)\n",
    "    return train_test_split(np.array(x), y, test_size=test_size, random_state=9)"
   ]
  },
  {
   "cell_type": "markdown",
   "id": "6ffe5ea5",
   "metadata": {},
   "source": [
    "## Split the dataset"
   ]
  },
  {
   "cell_type": "code",
   "execution_count": 6,
   "id": "ead889ed",
   "metadata": {},
   "outputs": [],
   "source": [
    "#Split the dataset\n",
    "x_train,x_test,y_train,y_test=load_data(test_size=0.25)"
   ]
  },
  {
   "cell_type": "code",
   "execution_count": 7,
   "id": "88a1436b",
   "metadata": {},
   "outputs": [
    {
     "data": {
      "text/plain": [
       "array([[-6.41207336e+02,  4.49728851e+01, -1.83886874e+00, ...,\n",
       "         3.89262023e-05,  3.05255780e-05,  2.94166712e-05],\n",
       "       [-6.50698486e+02,  5.30313988e+01, -4.91021967e+00, ...,\n",
       "         4.75216984e-05,  3.46632660e-05,  1.62844535e-05],\n",
       "       [-6.88135132e+02,  7.49348984e+01, -2.51251984e+00, ...,\n",
       "         5.26579515e-06,  2.36516053e-06,  1.05839104e-06],\n",
       "       ...,\n",
       "       [-7.35986145e+02,  3.38825951e+01,  6.34779024e+00, ...,\n",
       "         4.01547841e-05,  2.72262150e-05,  1.34929014e-05],\n",
       "       [-6.41012573e+02,  6.12088432e+01,  4.50762367e+00, ...,\n",
       "         4.61663149e-06,  5.71309738e-06,  2.59131230e-06],\n",
       "       [-4.64122589e+02,  4.98643608e+01, -2.19476166e+01, ...,\n",
       "         2.70380580e-04,  1.72412358e-04,  1.15070514e-04]])"
      ]
     },
     "execution_count": 7,
     "metadata": {},
     "output_type": "execute_result"
    }
   ],
   "source": [
    "x_train[1:10]"
   ]
  },
  {
   "cell_type": "code",
   "execution_count": 8,
   "id": "2b6412d0",
   "metadata": {},
   "outputs": [
    {
     "name": "stdout",
     "output_type": "stream",
     "text": [
      "(576, 192)\n"
     ]
    }
   ],
   "source": [
    "print((x_train.shape[0], x_test.shape[0]))"
   ]
  },
  {
   "cell_type": "code",
   "execution_count": 9,
   "id": "7d1f3789",
   "metadata": {},
   "outputs": [
    {
     "name": "stdout",
     "output_type": "stream",
     "text": [
      "Features extracted: 180\n"
     ]
    }
   ],
   "source": [
    "#Get the number of features extracted\n",
    "print(f'Features extracted: {x_train.shape[1]}')"
   ]
  },
  {
   "cell_type": "markdown",
   "id": "a1808472",
   "metadata": {},
   "source": [
    "## MLP Classifier"
   ]
  },
  {
   "cell_type": "code",
   "execution_count": 10,
   "id": "20b5d097",
   "metadata": {},
   "outputs": [],
   "source": [
    "#Initialize the Multi Layer Perceptron Classifier\n",
    "model=MLPClassifier(alpha=0.01, batch_size=256, epsilon=1e-08, hidden_layer_sizes=(300,), learning_rate='adaptive', max_iter=500)"
   ]
  },
  {
   "cell_type": "markdown",
   "id": "39e72083",
   "metadata": {},
   "source": [
    "## Fit/train the model"
   ]
  },
  {
   "cell_type": "code",
   "execution_count": 11,
   "id": "6b957cd0",
   "metadata": {},
   "outputs": [
    {
     "data": {
      "text/plain": [
       "MLPClassifier(alpha=0.01, batch_size=256, hidden_layer_sizes=(300,),\n",
       "              learning_rate='adaptive', max_iter=500)"
      ]
     },
     "execution_count": 11,
     "metadata": {},
     "output_type": "execute_result"
    }
   ],
   "source": [
    "model.fit(x_train,y_train)"
   ]
  },
  {
   "cell_type": "code",
   "execution_count": 12,
   "id": "a5db21f7",
   "metadata": {},
   "outputs": [],
   "source": [
    "#Predict for the test set\n",
    "y_pred=model.predict(x_test)"
   ]
  },
  {
   "cell_type": "code",
   "execution_count": 13,
   "id": "51ed52d6",
   "metadata": {
    "scrolled": true
   },
   "outputs": [
    {
     "data": {
      "text/plain": [
       "array(['calm', 'happy', 'happy', 'disgust', 'calm', 'calm', 'disgust',\n",
       "       'disgust', 'happy'], dtype='<U7')"
      ]
     },
     "execution_count": 13,
     "metadata": {},
     "output_type": "execute_result"
    }
   ],
   "source": [
    "y_pred[1:10]"
   ]
  },
  {
   "cell_type": "markdown",
   "id": "78b4b6d8",
   "metadata": {},
   "source": [
    "## Predict the accuracy of our model\n"
   ]
  },
  {
   "cell_type": "code",
   "execution_count": 14,
   "id": "b5767c44",
   "metadata": {},
   "outputs": [],
   "source": [
    "#Calculate the accuracy of our model\n",
    "accuracy=accuracy_score(y_true=y_test, y_pred=y_pred)\n"
   ]
  },
  {
   "cell_type": "code",
   "execution_count": 15,
   "id": "0c4f6e49",
   "metadata": {},
   "outputs": [
    {
     "name": "stdout",
     "output_type": "stream",
     "text": [
      "Accuracy: 78.12%\n"
     ]
    }
   ],
   "source": [
    "#Print the accuracy\n",
    "print(\"Accuracy: {:.2f}%\".format(accuracy*100))"
   ]
  },
  {
   "cell_type": "code",
   "execution_count": 16,
   "id": "40b3d702",
   "metadata": {},
   "outputs": [
    {
     "name": "stdout",
     "output_type": "stream",
     "text": [
      "              precision    recall  f1-score   support\n",
      "\n",
      "        calm       0.87      0.91      0.89        57\n",
      "     disgust       0.76      0.77      0.76        48\n",
      "     fearful       0.81      0.68      0.74        37\n",
      "       happy       0.69      0.72      0.71        50\n",
      "\n",
      "    accuracy                           0.78       192\n",
      "   macro avg       0.78      0.77      0.77       192\n",
      "weighted avg       0.78      0.78      0.78       192\n",
      "\n"
     ]
    }
   ],
   "source": [
    "from sklearn.metrics import classification_report\n",
    "print(classification_report(y_test,y_pred))"
   ]
  },
  {
   "cell_type": "code",
   "execution_count": 17,
   "id": "f3353a86",
   "metadata": {},
   "outputs": [],
   "source": [
    "from sklearn.metrics import accuracy_score, f1_score"
   ]
  },
  {
   "cell_type": "code",
   "execution_count": 18,
   "id": "bd72865e",
   "metadata": {},
   "outputs": [
    {
     "data": {
      "text/plain": [
       "array([0.88888889, 0.7628866 , 0.73529412, 0.70588235])"
      ]
     },
     "execution_count": 18,
     "metadata": {},
     "output_type": "execute_result"
    }
   ],
   "source": [
    "f1_score(y_test, y_pred,average=None)"
   ]
  },
  {
   "cell_type": "code",
   "execution_count": 19,
   "id": "1cd80aa6",
   "metadata": {},
   "outputs": [
    {
     "data": {
      "text/html": [
       "<div>\n",
       "<style scoped>\n",
       "    .dataframe tbody tr th:only-of-type {\n",
       "        vertical-align: middle;\n",
       "    }\n",
       "\n",
       "    .dataframe tbody tr th {\n",
       "        vertical-align: top;\n",
       "    }\n",
       "\n",
       "    .dataframe thead th {\n",
       "        text-align: right;\n",
       "    }\n",
       "</style>\n",
       "<table border=\"1\" class=\"dataframe\">\n",
       "  <thead>\n",
       "    <tr style=\"text-align: right;\">\n",
       "      <th></th>\n",
       "      <th>Actual</th>\n",
       "      <th>Predicted</th>\n",
       "    </tr>\n",
       "  </thead>\n",
       "  <tbody>\n",
       "    <tr>\n",
       "      <th>0</th>\n",
       "      <td>happy</td>\n",
       "      <td>happy</td>\n",
       "    </tr>\n",
       "    <tr>\n",
       "      <th>1</th>\n",
       "      <td>calm</td>\n",
       "      <td>calm</td>\n",
       "    </tr>\n",
       "    <tr>\n",
       "      <th>2</th>\n",
       "      <td>happy</td>\n",
       "      <td>happy</td>\n",
       "    </tr>\n",
       "    <tr>\n",
       "      <th>3</th>\n",
       "      <td>happy</td>\n",
       "      <td>happy</td>\n",
       "    </tr>\n",
       "    <tr>\n",
       "      <th>4</th>\n",
       "      <td>disgust</td>\n",
       "      <td>disgust</td>\n",
       "    </tr>\n",
       "    <tr>\n",
       "      <th>5</th>\n",
       "      <td>calm</td>\n",
       "      <td>calm</td>\n",
       "    </tr>\n",
       "    <tr>\n",
       "      <th>6</th>\n",
       "      <td>happy</td>\n",
       "      <td>calm</td>\n",
       "    </tr>\n",
       "    <tr>\n",
       "      <th>7</th>\n",
       "      <td>happy</td>\n",
       "      <td>disgust</td>\n",
       "    </tr>\n",
       "    <tr>\n",
       "      <th>8</th>\n",
       "      <td>disgust</td>\n",
       "      <td>disgust</td>\n",
       "    </tr>\n",
       "    <tr>\n",
       "      <th>9</th>\n",
       "      <td>happy</td>\n",
       "      <td>happy</td>\n",
       "    </tr>\n",
       "    <tr>\n",
       "      <th>10</th>\n",
       "      <td>happy</td>\n",
       "      <td>happy</td>\n",
       "    </tr>\n",
       "    <tr>\n",
       "      <th>11</th>\n",
       "      <td>disgust</td>\n",
       "      <td>disgust</td>\n",
       "    </tr>\n",
       "    <tr>\n",
       "      <th>12</th>\n",
       "      <td>happy</td>\n",
       "      <td>fearful</td>\n",
       "    </tr>\n",
       "    <tr>\n",
       "      <th>13</th>\n",
       "      <td>happy</td>\n",
       "      <td>happy</td>\n",
       "    </tr>\n",
       "    <tr>\n",
       "      <th>14</th>\n",
       "      <td>disgust</td>\n",
       "      <td>disgust</td>\n",
       "    </tr>\n",
       "    <tr>\n",
       "      <th>15</th>\n",
       "      <td>fearful</td>\n",
       "      <td>happy</td>\n",
       "    </tr>\n",
       "    <tr>\n",
       "      <th>16</th>\n",
       "      <td>calm</td>\n",
       "      <td>calm</td>\n",
       "    </tr>\n",
       "    <tr>\n",
       "      <th>17</th>\n",
       "      <td>happy</td>\n",
       "      <td>happy</td>\n",
       "    </tr>\n",
       "    <tr>\n",
       "      <th>18</th>\n",
       "      <td>disgust</td>\n",
       "      <td>disgust</td>\n",
       "    </tr>\n",
       "    <tr>\n",
       "      <th>19</th>\n",
       "      <td>disgust</td>\n",
       "      <td>disgust</td>\n",
       "    </tr>\n",
       "  </tbody>\n",
       "</table>\n",
       "</div>"
      ],
      "text/plain": [
       "     Actual Predicted\n",
       "0     happy     happy\n",
       "1      calm      calm\n",
       "2     happy     happy\n",
       "3     happy     happy\n",
       "4   disgust   disgust\n",
       "5      calm      calm\n",
       "6     happy      calm\n",
       "7     happy   disgust\n",
       "8   disgust   disgust\n",
       "9     happy     happy\n",
       "10    happy     happy\n",
       "11  disgust   disgust\n",
       "12    happy   fearful\n",
       "13    happy     happy\n",
       "14  disgust   disgust\n",
       "15  fearful     happy\n",
       "16     calm      calm\n",
       "17    happy     happy\n",
       "18  disgust   disgust\n",
       "19  disgust   disgust"
      ]
     },
     "execution_count": 19,
     "metadata": {},
     "output_type": "execute_result"
    }
   ],
   "source": [
    "import pandas as pd\n",
    "df=pd.DataFrame({'Actual': y_test, 'Predicted':y_pred})\n",
    "df.head(20)"
   ]
  },
  {
   "cell_type": "code",
   "execution_count": 20,
   "id": "374be644",
   "metadata": {},
   "outputs": [],
   "source": [
    "from librosa import display\n",
    "import matplotlib.pyplot as plt"
   ]
  },
  {
   "cell_type": "code",
   "execution_count": 21,
   "id": "b2298626",
   "metadata": {},
   "outputs": [],
   "source": [
    "import pickle\n",
    "# Writing different model files to file\n",
    "with open( 'modelForPrediction1.sav', 'wb') as f:\n",
    "    pickle.dump(model,f)"
   ]
  },
  {
   "cell_type": "code",
   "execution_count": 22,
   "id": "18beba47",
   "metadata": {},
   "outputs": [
    {
     "data": {
      "text/plain": [
       "array(['calm'], dtype='<U7')"
      ]
     },
     "execution_count": 22,
     "metadata": {},
     "output_type": "execute_result"
    }
   ],
   "source": [
    "filename = 'modelForPrediction1.sav'\n",
    "loaded_model = pickle.load(open(filename, 'rb')) # loading the model file from the storage\n",
    "\n",
    "feature=extract_feature(\"C:/Users/Hp/Downloads/Ravdess_dataset/speech-emotion-recognition/Actor_02/03-01-01-01-02-02-02.wav\", mfcc=True, chroma=True, mel=True)\n",
    "\n",
    "feature=feature.reshape(1,-1)\n",
    "\n",
    "prediction=loaded_model.predict(feature)\n",
    "prediction"
   ]
  },
  {
   "cell_type": "code",
   "execution_count": 23,
   "id": "4d65b1c4",
   "metadata": {},
   "outputs": [
    {
     "data": {
      "text/plain": [
       "<matplotlib.collections.PolyCollection at 0x2241b513610>"
      ]
     },
     "execution_count": 23,
     "metadata": {},
     "output_type": "execute_result"
    },
    {
     "data": {
      "image/png": "[encoded data removed]",
      "text/plain": [
       "<Figure size 864x288 with 1 Axes>"
      ]
     },
     "metadata": {
      "needs_background": "light"
     },
     "output_type": "display_data"
    }
   ],
   "source": [
    "data, sampling_rate = librosa.load('C:/Users/Hp/Downloads/Ravdess_dataset/speech-emotion-recognition/Actor_02/03-01-01-01-02-02-02.wav')\n",
    "plt.figure(figsize=(12, 4))\n",
    "librosa.display.waveplot(data, sr=sampling_rate)"
   ]
  },
  {
   "cell_type": "code",
   "execution_count": 24,
   "id": "2d9a6f28",
   "metadata": {},
   "outputs": [
    {
     "data": {
      "text/plain": [
       "array([[-6.27870483e+02,  4.05996666e+01, -1.00877037e+01,\n",
       "         4.48186827e+00, -1.13761034e+01, -3.27964234e+00,\n",
       "        -1.40541925e+01, -7.21069622e+00, -5.68127537e+00,\n",
       "        -4.05519867e+00, -6.52589989e+00, -6.07732296e+00,\n",
       "        -2.64079547e+00, -6.94491816e+00, -2.31343722e+00,\n",
       "        -4.49618530e+00, -2.89231348e+00, -3.35822953e-03,\n",
       "        -7.41897285e-01, -9.91022527e-01, -2.56544018e+00,\n",
       "        -1.25091374e-01, -1.87723625e+00,  1.59772873e+00,\n",
       "         3.38146138e+00,  3.84696603e+00,  4.40000105e+00,\n",
       "         3.18982005e+00,  2.33816338e+00,  7.54441977e-01,\n",
       "        -1.24108863e+00,  3.29235721e+00,  4.03200006e+00,\n",
       "         1.39738488e+00,  8.31668079e-01, -8.85033727e-01,\n",
       "         3.89002323e-01, -1.98098402e-02,  2.55583711e-02,\n",
       "        -1.74041951e+00,  5.38011968e-01,  5.47259510e-01,\n",
       "         5.33583164e-01,  5.47456503e-01,  6.26992822e-01,\n",
       "         6.57796264e-01,  6.66072786e-01,  6.65665746e-01,\n",
       "         6.40713573e-01,  6.31792545e-01,  6.54239595e-01,\n",
       "         5.75772166e-01,  4.04978800e-06,  1.88439790e-05,\n",
       "         4.84589254e-05,  5.68149662e-05,  1.76734775e-05,\n",
       "         1.21052923e-04,  2.83464813e-03,  1.59624126e-02,\n",
       "         9.11501944e-02,  2.00456083e-01,  3.42513397e-02,\n",
       "         3.77605669e-02,  7.16661289e-03,  1.63510777e-02,\n",
       "         7.32811391e-02,  3.40591334e-02,  4.24543731e-02,\n",
       "         1.55131472e-02,  6.79574534e-02,  1.02941342e-01,\n",
       "         7.43736997e-02,  3.21065933e-02,  2.29406375e-02,\n",
       "         3.01120002e-02,  2.16515083e-02,  9.17130895e-03,\n",
       "         6.32215664e-03,  5.28086023e-03,  3.14026624e-02,\n",
       "         7.09605739e-02,  3.02112065e-02,  5.00193238e-02,\n",
       "         4.63824384e-02,  2.05259621e-02,  4.41213101e-02,\n",
       "         3.83667126e-02,  1.27707720e-02,  1.93462870e-03,\n",
       "         5.44898584e-02,  1.20065644e-01,  7.61074573e-02,\n",
       "         6.73174262e-02,  3.84238549e-02,  3.81445363e-02,\n",
       "         2.02029217e-02,  1.12886140e-02,  2.09123399e-02,\n",
       "         1.54691776e-02,  2.98102237e-02,  2.35603042e-02,\n",
       "         1.19192582e-02,  5.85287390e-03,  1.04661360e-02,\n",
       "         1.48290778e-02,  2.31145751e-02,  3.77673134e-02,\n",
       "         3.31641063e-02,  1.88014992e-02,  2.55025271e-02,\n",
       "         2.22954843e-02,  7.17523927e-03,  9.08148941e-03,\n",
       "         2.35064179e-02,  2.89014801e-02,  1.91085357e-02,\n",
       "         5.90539351e-03,  1.28470140e-03,  2.26253108e-03,\n",
       "         4.42114426e-03,  3.95402499e-03,  3.80196981e-03,\n",
       "         8.17062100e-04,  8.57104955e-04,  2.24716286e-03,\n",
       "         1.78178586e-03,  6.13900018e-04,  7.28572311e-04,\n",
       "         9.40166996e-04,  4.74702363e-04,  6.23937987e-04,\n",
       "         1.01031177e-03,  8.12821556e-04,  7.33859197e-04,\n",
       "         1.01795699e-03,  9.40688944e-04,  1.37527694e-03,\n",
       "         1.19976129e-03,  1.28591026e-03,  1.04495336e-03,\n",
       "         1.11726939e-03,  9.04496934e-04,  4.22479556e-04,\n",
       "         4.31988097e-04,  2.06450262e-04,  2.66050076e-04,\n",
       "         1.91924686e-04,  3.02196248e-04,  2.31281927e-04,\n",
       "         1.91041821e-04,  1.87055382e-04,  1.57835806e-04,\n",
       "         1.96410940e-04,  1.98318143e-04,  1.24766215e-04,\n",
       "         2.23912401e-04,  2.97400285e-04,  2.01016926e-04,\n",
       "         1.54709196e-04,  1.86592821e-04,  1.40893608e-04,\n",
       "         1.96914378e-04,  2.37439817e-04,  1.28804168e-04,\n",
       "         1.90152510e-04,  1.84737059e-04,  2.34095991e-04,\n",
       "         3.14882229e-04,  2.92670506e-04,  1.60401483e-04,\n",
       "         1.16056195e-04,  1.15170020e-04,  1.05790299e-04,\n",
       "         8.25441675e-05,  5.37749729e-05,  4.54228430e-05,\n",
       "         3.64286025e-05,  3.84837513e-05,  3.30245020e-05]])"
      ]
     },
     "execution_count": 24,
     "metadata": {},
     "output_type": "execute_result"
    }
   ],
   "source": [
    "feature"
   ]
  },
  {
   "cell_type": "code",
   "execution_count": 25,
   "id": "7894acfb",
   "metadata": {},
   "outputs": [
    {
     "data": {
      "text/plain": [
       "array(['fearful'], dtype='<U7')"
      ]
     },
     "execution_count": 25,
     "metadata": {},
     "output_type": "execute_result"
    }
   ],
   "source": [
    "filename = 'modelForPrediction1.sav'\n",
    "loaded_model = pickle.load(open(filename, 'rb')) # loading the model file from the storage\n",
    "\n",
    "feature2=extract_feature(\"C:/Users/Hp/Downloads/Ravdess_dataset/speech-emotion-recognition/Actor_01/03-01-06-02-02-01-01.wav\", mfcc=True, chroma=True, mel=True)\n",
    "\n",
    "feature2=feature2.reshape(1,-1)\n",
    "\n",
    "prediction2=loaded_model.predict(feature2)\n",
    "prediction2"
   ]
  },
  {
   "cell_type": "code",
   "execution_count": 26,
   "id": "bb34d0dc",
   "metadata": {
    "scrolled": true
   },
   "outputs": [
    {
     "data": {
      "text/plain": [
       "<matplotlib.collections.PolyCollection at 0x2241b999610>"
      ]
     },
     "execution_count": 26,
     "metadata": {},
     "output_type": "execute_result"
    },
    {
     "data": {
      "image/png": "[encoded data removed]",
      "text/plain": [
       "<Figure size 864x288 with 1 Axes>"
      ]
     },
     "metadata": {
      "needs_background": "light"
     },
     "output_type": "display_data"
    }
   ],
   "source": [
    "data, sampling_rate = librosa.load('C:/Users/Hp/Downloads/Ravdess_dataset/speech-emotion-recognition/Actor_01/03-01-06-02-02-01-01.wav')\n",
    "plt.figure(figsize=(12, 4))\n",
    "librosa.display.waveplot(data, sr=sampling_rate)"
   ]
  },
  {
   "cell_type": "code",
   "execution_count": 27,
   "id": "16984bee",
   "metadata": {},
   "outputs": [
    {
     "data": {
      "text/plain": [
       "array(['fearful'], dtype='<U7')"
      ]
     },
     "execution_count": 27,
     "metadata": {},
     "output_type": "execute_result"
    }
   ],
   "source": [
    "filename = 'modelForPrediction1.sav'\n",
    "loaded_model = pickle.load(open(filename, 'rb')) # loading the model file from the storage\n",
    "\n",
    "feature3=extract_feature(\"C:/Users/Hp/Downloads/Ravdess_dataset/speech-emotion-recognition/Actor_23/03-01-08-02-02-01-23.wav\", mfcc=True, chroma=True, mel=True)\n",
    "\n",
    "feature3=feature3.reshape(1,-1)\n",
    "\n",
    "prediction3=loaded_model.predict(feature2)\n",
    "prediction3"
   ]
  },
  {
   "cell_type": "code",
   "execution_count": 28,
   "id": "41e4eb32",
   "metadata": {},
   "outputs": [
    {
     "data": {
      "text/plain": [
       "<matplotlib.collections.PolyCollection at 0x2241ba00370>"
      ]
     },
     "execution_count": 28,
     "metadata": {},
     "output_type": "execute_result"
    },
    {
     "data": {
      "image/png": "[encoded data removed]",
      "text/plain": [
       "<Figure size 864x288 with 1 Axes>"
      ]
     },
     "metadata": {
      "needs_background": "light"
     },
     "output_type": "display_data"
    }
   ],
   "source": [
    "data, sampling_rate = librosa.load(\"C:/Users/Hp/Downloads/Ravdess_dataset/speech-emotion-recognition/Actor_23/03-01-08-02-02-01-23.wav\")\n",
    "plt.figure(figsize=(12, 4))\n",
    "librosa.display.waveplot(data, sr=sampling_rate)"
   ]
  },
  {
   "cell_type": "code",
   "execution_count": 29,
   "id": "69b9a56f",
   "metadata": {},
   "outputs": [
    {
     "name": "stdout",
     "output_type": "stream",
     "text": [
      "[[52  3  1  1]\n",
      " [ 1 37  1  9]\n",
      " [ 3  3 25  6]\n",
      " [ 4  6  4 36]]\n"
     ]
    },
    {
     "data": {
      "image/png": "[encoded data removed]",
      "text/plain": [
       "<Figure size 432x288 with 2 Axes>"
      ]
     },
     "metadata": {
      "needs_background": "light"
     },
     "output_type": "display_data"
    }
   ],
   "source": [
    "from sklearn.metrics import confusion_matrix\n",
    "matrix = confusion_matrix(y_test,y_pred)\n",
    "print (matrix)\n",
    "from sklearn.metrics import plot_confusion_matrix\n",
    "plot_confusion_matrix(model,x_test,y_test, cmap=plt.cm.PuRd)\n",
    "plt.show()"
   ]
  },
  {
   "cell_type": "code",
   "execution_count": null,
   "id": "70e9db40",
   "metadata": {},
   "outputs": [],
   "source": []
  }
 ],
 "metadata": {
  "kernelspec": {
   "display_name": "Python 3",
   "language": "python",
   "name": "python3"
  },
  "language_info": {
   "codemirror_mode": {
    "name": "ipython",
    "version": 3
   },
   "file_extension": ".py",
   "mimetype": "text/x-python",
   "name": "python",
   "nbconvert_exporter": "python",
   "pygments_lexer": "ipython3",
   "version": "3.8.8"
  }
 },
 "nbformat": 4,
 "nbformat_minor": 5
}
